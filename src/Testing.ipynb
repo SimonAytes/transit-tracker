{
 "cells": [
  {
   "cell_type": "markdown",
   "metadata": {},
   "source": [
    "**USEFUL LINKS**\n",
    "\n",
    "DATA DICTIONARY : http://bt.mta.info/wiki/Developers/SIRIMonitoredVehicleJourney\n",
    "\n",
    "STATIC DATA RESOURCES : http://web.mta.info/developers/developer-data-terms.html#data\n",
    "\n",
    "DATA FEEDS INFO: https://api.mta.info/#/landing\n",
    "\n",
    "DEVELOPER RESOURCES: https://new.mta.info/developers"
   ]
  },
  {
   "cell_type": "markdown",
   "metadata": {},
   "source": [
    "----"
   ]
  },
  {
   "cell_type": "code",
   "execution_count": 1,
   "metadata": {},
   "outputs": [],
   "source": [
    "import pandas as pd\n",
    "\n",
    "import os\n",
    "import requests\n",
    "import json"
   ]
  },
  {
   "cell_type": "code",
   "execution_count": null,
   "metadata": {},
   "outputs": [],
   "source": [
    "stops = pd.read_csv(\"./secrets/bus/stops.txt\")"
   ]
  },
  {
   "cell_type": "code",
   "execution_count": null,
   "metadata": {},
   "outputs": [],
   "source": [
    "t_stops = stops[stops[\"stop_name\"].str.contains(\"W 125 ST/MAL\")]"
   ]
  },
  {
   "cell_type": "code",
   "execution_count": null,
   "metadata": {},
   "outputs": [],
   "source": [
    "t_stops"
   ]
  },
  {
   "cell_type": "code",
   "execution_count": null,
   "metadata": {},
   "outputs": [],
   "source": [
    "stops = stops[[\"stop_id\", \"stop_name\"]]"
   ]
  },
  {
   "cell_type": "code",
   "execution_count": null,
   "metadata": {},
   "outputs": [],
   "source": [
    "api_key = \"API KEY HERE\"\n",
    "\n",
    "# Load in API key\n",
    "with open(\"./secrets/bus_api_key.txt\") as f:\n",
    "    api_key = next(f)\n",
    "    \n",
    "stop_id = \"402507\"\n",
    "\n",
    "url = f\"http://bustime.mta.info/api/siri/stop-monitoring.json?key={api_key}&OperatorRef=MTA&MonitoringRef={stop_id}\"\n",
    "\n",
    "response = requests.request(\"GET\", url)\n",
    "\n",
    "# Create Python object from JSON string data\n",
    "obj = json.loads(response.text)\n",
    "  \n",
    "# Pretty Print JSON\n",
    "json_formatted_str = json.dumps(obj, indent=4)"
   ]
  },
  {
   "cell_type": "code",
   "execution_count": null,
   "metadata": {},
   "outputs": [],
   "source": [
    "closest_busses = obj[\"Siri\"][\"ServiceDelivery\"][\"StopMonitoringDelivery\"][0]['MonitoredStopVisit'][0:3]"
   ]
  },
  {
   "cell_type": "code",
   "execution_count": null,
   "metadata": {},
   "outputs": [],
   "source": [
    "bus = closest_busses[0]"
   ]
  },
  {
   "cell_type": "code",
   "execution_count": null,
   "metadata": {},
   "outputs": [],
   "source": [
    "# Destination\n",
    "bus['MonitoredVehicleJourney']['DestinationName']"
   ]
  },
  {
   "cell_type": "code",
   "execution_count": null,
   "metadata": {},
   "outputs": [],
   "source": [
    "temp = pd.DataFrame()"
   ]
  },
  {
   "cell_type": "code",
   "execution_count": null,
   "metadata": {},
   "outputs": [],
   "source": [
    "config_type = [\"bus\", \"subway\"]\n",
    "stop_id = [\"402507\", \"225\"]\n",
    "direction = [\"West\", \"STATION\"]"
   ]
  },
  {
   "cell_type": "code",
   "execution_count": null,
   "metadata": {},
   "outputs": [],
   "source": [
    "temp['type'] = config_type\n",
    "temp['id'] = stop_id\n",
    "temp['direction'] = direction"
   ]
  },
  {
   "cell_type": "code",
   "execution_count": null,
   "metadata": {},
   "outputs": [],
   "source": [
    "temp.to_csv(\"./config/config.csv\", index=False)"
   ]
  },
  {
   "cell_type": "code",
   "execution_count": null,
   "metadata": {},
   "outputs": [],
   "source": [
    "bus_stops = pd.read_csv(\"./config/bus_stops.csv\")\n",
    "bus_stops = bus_stops[bus_stops[\"stop_id\"] == int(\"402507\")]\n",
    "# Return the name of the bus stop\n",
    "print(bus_stops[\"stop_name\"].tolist()[0])"
   ]
  },
  {
   "cell_type": "code",
   "execution_count": 2,
   "metadata": {},
   "outputs": [],
   "source": [
    "from google.transit import gtfs_realtime_pb2\n",
    "from protobuf_to_dict import protobuf_to_dict"
   ]
  },
  {
   "cell_type": "code",
   "execution_count": 3,
   "metadata": {},
   "outputs": [],
   "source": [
    "subway_api_key = \"API KEY HERE\"\n",
    "\n",
    "# Load in API key\n",
    "with open(\"./secrets/subway_api_key.txt\") as f:\n",
    "    subway_api_key = next(f)\n",
    "\n",
    "subway_headers = {\"x-api-key\": subway_api_key}\n",
    "subway_url = f\"https://api-endpoint.mta.info/Dataservice/mtagtfsfeeds/nyct%2Fgtfs\"\n",
    "subway_res = requests.request(\"GET\", subway_url, headers=subway_headers)"
   ]
  },
  {
   "cell_type": "code",
   "execution_count": 4,
   "metadata": {},
   "outputs": [
    {
     "data": {
      "text/plain": [
       "174608"
      ]
     },
     "execution_count": 4,
     "metadata": {},
     "output_type": "execute_result"
    }
   ],
   "source": [
    "feed = gtfs_realtime_pb2.FeedMessage()\n",
    "feed.ParseFromString(subway_res.content)"
   ]
  },
  {
   "cell_type": "code",
   "execution_count": 5,
   "metadata": {},
   "outputs": [],
   "source": [
    "subway_feed = protobuf_to_dict(feed) # subway_feed is a dictionary\n",
    "realtime_data = subway_feed['entity'] # train_data is a list"
   ]
  },
  {
   "cell_type": "code",
   "execution_count": 6,
   "metadata": {},
   "outputs": [],
   "source": [
    "import datetime as dt"
   ]
  },
  {
   "cell_type": "code",
   "execution_count": 7,
   "metadata": {
    "tags": []
   },
   "outputs": [],
   "source": [
    "stop_ids = []\n",
    "route_ids = []\n",
    "arrival_times = []\n",
    "departure_times = []\n",
    "\n",
    "for train in realtime_data:\n",
    "    if 'trip_update' in train:\n",
    "        t_route_id = train['trip_update']['trip']['route_id']\n",
    "        for stop in train['trip_update']['stop_time_update']:\n",
    "            if \"225\" in stop['stop_id']:\n",
    "                # Grab stop id\n",
    "                stop_ids.append(stop['stop_id'])\n",
    "                \n",
    "                # Grab route id\n",
    "                route_ids.append(t_route_id)\n",
    "                \n",
    "                # Grab arrival time\n",
    "                \n",
    "                arrival_times.append(dt.datetime.fromtimestamp(stop['arrival']['time']))\n",
    "                \n",
    "                # Grab departure time\n",
    "                departure_times.append(dt.datetime.fromtimestamp(stop['departure']['time']))\n",
    "    else:\n",
    "        pass"
   ]
  },
  {
   "cell_type": "code",
   "execution_count": 8,
   "metadata": {},
   "outputs": [],
   "source": [
    "df = pd.DataFrame()\n",
    "df['stop'] = stop_ids\n",
    "df['route'] = route_ids\n",
    "df['arrival_time'] = arrival_times\n",
    "df['departure_time'] = departure_times"
   ]
  },
  {
   "cell_type": "code",
   "execution_count": 9,
   "metadata": {},
   "outputs": [],
   "source": [
    "df = df.sort_values(by=['arrival_time'])"
   ]
  },
  {
   "cell_type": "code",
   "execution_count": 10,
   "metadata": {},
   "outputs": [
    {
     "data": {
      "text/html": [
       "<div>\n",
       "<style scoped>\n",
       "    .dataframe tbody tr th:only-of-type {\n",
       "        vertical-align: middle;\n",
       "    }\n",
       "\n",
       "    .dataframe tbody tr th {\n",
       "        vertical-align: top;\n",
       "    }\n",
       "\n",
       "    .dataframe thead th {\n",
       "        text-align: right;\n",
       "    }\n",
       "</style>\n",
       "<table border=\"1\" class=\"dataframe\">\n",
       "  <thead>\n",
       "    <tr style=\"text-align: right;\">\n",
       "      <th></th>\n",
       "      <th>stop</th>\n",
       "      <th>route</th>\n",
       "      <th>arrival_time</th>\n",
       "      <th>departure_time</th>\n",
       "    </tr>\n",
       "  </thead>\n",
       "  <tbody>\n",
       "    <tr>\n",
       "      <th>0</th>\n",
       "      <td>225N</td>\n",
       "      <td>2</td>\n",
       "      <td>2022-04-26 14:10:49</td>\n",
       "      <td>2022-04-26 14:10:49</td>\n",
       "    </tr>\n",
       "    <tr>\n",
       "      <th>24</th>\n",
       "      <td>225S</td>\n",
       "      <td>3</td>\n",
       "      <td>2022-04-26 14:12:59</td>\n",
       "      <td>2022-04-26 14:12:59</td>\n",
       "    </tr>\n",
       "    <tr>\n",
       "      <th>18</th>\n",
       "      <td>225N</td>\n",
       "      <td>3</td>\n",
       "      <td>2022-04-26 14:15:29</td>\n",
       "      <td>2022-04-26 14:15:29</td>\n",
       "    </tr>\n",
       "    <tr>\n",
       "      <th>3</th>\n",
       "      <td>225S</td>\n",
       "      <td>2</td>\n",
       "      <td>2022-04-26 14:16:00</td>\n",
       "      <td>2022-04-26 14:16:00</td>\n",
       "    </tr>\n",
       "    <tr>\n",
       "      <th>26</th>\n",
       "      <td>225S</td>\n",
       "      <td>3</td>\n",
       "      <td>2022-04-26 14:19:30</td>\n",
       "      <td>2022-04-26 14:19:30</td>\n",
       "    </tr>\n",
       "    <tr>\n",
       "      <th>1</th>\n",
       "      <td>225N</td>\n",
       "      <td>2</td>\n",
       "      <td>2022-04-26 14:24:24</td>\n",
       "      <td>2022-04-26 14:24:24</td>\n",
       "    </tr>\n",
       "    <tr>\n",
       "      <th>19</th>\n",
       "      <td>225N</td>\n",
       "      <td>3</td>\n",
       "      <td>2022-04-26 14:25:59</td>\n",
       "      <td>2022-04-26 14:25:59</td>\n",
       "    </tr>\n",
       "    <tr>\n",
       "      <th>28</th>\n",
       "      <td>225S</td>\n",
       "      <td>3</td>\n",
       "      <td>2022-04-26 14:27:30</td>\n",
       "      <td>2022-04-26 14:27:30</td>\n",
       "    </tr>\n",
       "    <tr>\n",
       "      <th>5</th>\n",
       "      <td>225S</td>\n",
       "      <td>2</td>\n",
       "      <td>2022-04-26 14:29:42</td>\n",
       "      <td>2022-04-26 14:29:42</td>\n",
       "    </tr>\n",
       "    <tr>\n",
       "      <th>2</th>\n",
       "      <td>225N</td>\n",
       "      <td>2</td>\n",
       "      <td>2022-04-26 14:29:45</td>\n",
       "      <td>2022-04-26 14:29:45</td>\n",
       "    </tr>\n",
       "    <tr>\n",
       "      <th>20</th>\n",
       "      <td>225N</td>\n",
       "      <td>3</td>\n",
       "      <td>2022-04-26 14:35:12</td>\n",
       "      <td>2022-04-26 14:35:12</td>\n",
       "    </tr>\n",
       "    <tr>\n",
       "      <th>31</th>\n",
       "      <td>225S</td>\n",
       "      <td>3</td>\n",
       "      <td>2022-04-26 14:35:30</td>\n",
       "      <td>2022-04-26 14:35:30</td>\n",
       "    </tr>\n",
       "    <tr>\n",
       "      <th>4</th>\n",
       "      <td>225N</td>\n",
       "      <td>2</td>\n",
       "      <td>2022-04-26 14:37:54</td>\n",
       "      <td>2022-04-26 14:37:54</td>\n",
       "    </tr>\n",
       "    <tr>\n",
       "      <th>7</th>\n",
       "      <td>225S</td>\n",
       "      <td>2</td>\n",
       "      <td>2022-04-26 14:37:57</td>\n",
       "      <td>2022-04-26 14:37:57</td>\n",
       "    </tr>\n",
       "    <tr>\n",
       "      <th>21</th>\n",
       "      <td>225N</td>\n",
       "      <td>3</td>\n",
       "      <td>2022-04-26 14:39:29</td>\n",
       "      <td>2022-04-26 14:39:29</td>\n",
       "    </tr>\n",
       "    <tr>\n",
       "      <th>33</th>\n",
       "      <td>225S</td>\n",
       "      <td>3</td>\n",
       "      <td>2022-04-26 14:43:30</td>\n",
       "      <td>2022-04-26 14:43:30</td>\n",
       "    </tr>\n",
       "    <tr>\n",
       "      <th>8</th>\n",
       "      <td>225S</td>\n",
       "      <td>2</td>\n",
       "      <td>2022-04-26 14:45:35</td>\n",
       "      <td>2022-04-26 14:45:35</td>\n",
       "    </tr>\n",
       "    <tr>\n",
       "      <th>6</th>\n",
       "      <td>225N</td>\n",
       "      <td>2</td>\n",
       "      <td>2022-04-26 14:48:29</td>\n",
       "      <td>2022-04-26 14:48:29</td>\n",
       "    </tr>\n",
       "    <tr>\n",
       "      <th>22</th>\n",
       "      <td>225N</td>\n",
       "      <td>3</td>\n",
       "      <td>2022-04-26 14:53:33</td>\n",
       "      <td>2022-04-26 14:53:33</td>\n",
       "    </tr>\n",
       "    <tr>\n",
       "      <th>10</th>\n",
       "      <td>225S</td>\n",
       "      <td>2</td>\n",
       "      <td>2022-04-26 14:54:02</td>\n",
       "      <td>2022-04-26 14:54:02</td>\n",
       "    </tr>\n",
       "    <tr>\n",
       "      <th>23</th>\n",
       "      <td>225N</td>\n",
       "      <td>3</td>\n",
       "      <td>2022-04-26 15:01:32</td>\n",
       "      <td>2022-04-26 15:01:32</td>\n",
       "    </tr>\n",
       "    <tr>\n",
       "      <th>9</th>\n",
       "      <td>225N</td>\n",
       "      <td>2</td>\n",
       "      <td>2022-04-26 15:03:03</td>\n",
       "      <td>2022-04-26 15:03:03</td>\n",
       "    </tr>\n",
       "    <tr>\n",
       "      <th>12</th>\n",
       "      <td>225S</td>\n",
       "      <td>2</td>\n",
       "      <td>2022-04-26 15:03:30</td>\n",
       "      <td>2022-04-26 15:03:30</td>\n",
       "    </tr>\n",
       "    <tr>\n",
       "      <th>15</th>\n",
       "      <td>225S</td>\n",
       "      <td>2</td>\n",
       "      <td>2022-04-26 15:12:30</td>\n",
       "      <td>2022-04-26 15:12:30</td>\n",
       "    </tr>\n",
       "    <tr>\n",
       "      <th>25</th>\n",
       "      <td>225N</td>\n",
       "      <td>3</td>\n",
       "      <td>2022-04-26 15:12:30</td>\n",
       "      <td>2022-04-26 15:12:30</td>\n",
       "    </tr>\n",
       "    <tr>\n",
       "      <th>11</th>\n",
       "      <td>225N</td>\n",
       "      <td>2</td>\n",
       "      <td>2022-04-26 15:15:00</td>\n",
       "      <td>2022-04-26 15:15:00</td>\n",
       "    </tr>\n",
       "    <tr>\n",
       "      <th>27</th>\n",
       "      <td>225N</td>\n",
       "      <td>3</td>\n",
       "      <td>2022-04-26 15:19:00</td>\n",
       "      <td>2022-04-26 15:19:00</td>\n",
       "    </tr>\n",
       "    <tr>\n",
       "      <th>17</th>\n",
       "      <td>225S</td>\n",
       "      <td>2</td>\n",
       "      <td>2022-04-26 15:21:30</td>\n",
       "      <td>2022-04-26 15:21:30</td>\n",
       "    </tr>\n",
       "    <tr>\n",
       "      <th>13</th>\n",
       "      <td>225N</td>\n",
       "      <td>2</td>\n",
       "      <td>2022-04-26 15:23:00</td>\n",
       "      <td>2022-04-26 15:23:00</td>\n",
       "    </tr>\n",
       "    <tr>\n",
       "      <th>29</th>\n",
       "      <td>225N</td>\n",
       "      <td>3</td>\n",
       "      <td>2022-04-26 15:27:00</td>\n",
       "      <td>2022-04-26 15:27:00</td>\n",
       "    </tr>\n",
       "    <tr>\n",
       "      <th>14</th>\n",
       "      <td>225N</td>\n",
       "      <td>2</td>\n",
       "      <td>2022-04-26 15:31:00</td>\n",
       "      <td>2022-04-26 15:31:00</td>\n",
       "    </tr>\n",
       "    <tr>\n",
       "      <th>30</th>\n",
       "      <td>225N</td>\n",
       "      <td>3</td>\n",
       "      <td>2022-04-26 15:35:00</td>\n",
       "      <td>2022-04-26 15:35:00</td>\n",
       "    </tr>\n",
       "    <tr>\n",
       "      <th>16</th>\n",
       "      <td>225N</td>\n",
       "      <td>2</td>\n",
       "      <td>2022-04-26 15:39:30</td>\n",
       "      <td>2022-04-26 15:39:30</td>\n",
       "    </tr>\n",
       "    <tr>\n",
       "      <th>32</th>\n",
       "      <td>225N</td>\n",
       "      <td>3</td>\n",
       "      <td>2022-04-26 15:43:30</td>\n",
       "      <td>2022-04-26 15:43:30</td>\n",
       "    </tr>\n",
       "  </tbody>\n",
       "</table>\n",
       "</div>"
      ],
      "text/plain": [
       "    stop route        arrival_time      departure_time\n",
       "0   225N     2 2022-04-26 14:10:49 2022-04-26 14:10:49\n",
       "24  225S     3 2022-04-26 14:12:59 2022-04-26 14:12:59\n",
       "18  225N     3 2022-04-26 14:15:29 2022-04-26 14:15:29\n",
       "3   225S     2 2022-04-26 14:16:00 2022-04-26 14:16:00\n",
       "26  225S     3 2022-04-26 14:19:30 2022-04-26 14:19:30\n",
       "1   225N     2 2022-04-26 14:24:24 2022-04-26 14:24:24\n",
       "19  225N     3 2022-04-26 14:25:59 2022-04-26 14:25:59\n",
       "28  225S     3 2022-04-26 14:27:30 2022-04-26 14:27:30\n",
       "5   225S     2 2022-04-26 14:29:42 2022-04-26 14:29:42\n",
       "2   225N     2 2022-04-26 14:29:45 2022-04-26 14:29:45\n",
       "20  225N     3 2022-04-26 14:35:12 2022-04-26 14:35:12\n",
       "31  225S     3 2022-04-26 14:35:30 2022-04-26 14:35:30\n",
       "4   225N     2 2022-04-26 14:37:54 2022-04-26 14:37:54\n",
       "7   225S     2 2022-04-26 14:37:57 2022-04-26 14:37:57\n",
       "21  225N     3 2022-04-26 14:39:29 2022-04-26 14:39:29\n",
       "33  225S     3 2022-04-26 14:43:30 2022-04-26 14:43:30\n",
       "8   225S     2 2022-04-26 14:45:35 2022-04-26 14:45:35\n",
       "6   225N     2 2022-04-26 14:48:29 2022-04-26 14:48:29\n",
       "22  225N     3 2022-04-26 14:53:33 2022-04-26 14:53:33\n",
       "10  225S     2 2022-04-26 14:54:02 2022-04-26 14:54:02\n",
       "23  225N     3 2022-04-26 15:01:32 2022-04-26 15:01:32\n",
       "9   225N     2 2022-04-26 15:03:03 2022-04-26 15:03:03\n",
       "12  225S     2 2022-04-26 15:03:30 2022-04-26 15:03:30\n",
       "15  225S     2 2022-04-26 15:12:30 2022-04-26 15:12:30\n",
       "25  225N     3 2022-04-26 15:12:30 2022-04-26 15:12:30\n",
       "11  225N     2 2022-04-26 15:15:00 2022-04-26 15:15:00\n",
       "27  225N     3 2022-04-26 15:19:00 2022-04-26 15:19:00\n",
       "17  225S     2 2022-04-26 15:21:30 2022-04-26 15:21:30\n",
       "13  225N     2 2022-04-26 15:23:00 2022-04-26 15:23:00\n",
       "29  225N     3 2022-04-26 15:27:00 2022-04-26 15:27:00\n",
       "14  225N     2 2022-04-26 15:31:00 2022-04-26 15:31:00\n",
       "30  225N     3 2022-04-26 15:35:00 2022-04-26 15:35:00\n",
       "16  225N     2 2022-04-26 15:39:30 2022-04-26 15:39:30\n",
       "32  225N     3 2022-04-26 15:43:30 2022-04-26 15:43:30"
      ]
     },
     "execution_count": 10,
     "metadata": {},
     "output_type": "execute_result"
    }
   ],
   "source": [
    "df"
   ]
  },
  {
   "cell_type": "code",
   "execution_count": null,
   "metadata": {
    "tags": []
   },
   "outputs": [],
   "source": [
    "realtime_data[2]['trip_update']['stop_time_update']"
   ]
  },
  {
   "cell_type": "code",
   "execution_count": null,
   "metadata": {},
   "outputs": [],
   "source": [
    "sub_stops = pd.read_csv(\"./secrets/subway/stops.txt\")"
   ]
  },
  {
   "cell_type": "code",
   "execution_count": null,
   "metadata": {},
   "outputs": [],
   "source": [
    "sub_stops.head(1)"
   ]
  },
  {
   "cell_type": "code",
   "execution_count": null,
   "metadata": {},
   "outputs": [],
   "source": [
    "sub_stops = sub_stops[[\"stop_id\", \"stop_name\"]]"
   ]
  },
  {
   "cell_type": "code",
   "execution_count": null,
   "metadata": {},
   "outputs": [],
   "source": [
    "stop_dir = []\n",
    "\n",
    "for index, row in sub_stops.iterrows():\n",
    "    temp = row[\"stop_id\"]\n",
    "    if \"N\" in temp[-1]:\n",
    "        stop_dir.append(\"UPT\")\n",
    "    elif \"S\" in temp[-1]:\n",
    "        stop_dir.append(\"DWT\")\n",
    "    else:\n",
    "        stop_dir.append(\"STATION\")"
   ]
  },
  {
   "cell_type": "code",
   "execution_count": null,
   "metadata": {},
   "outputs": [],
   "source": [
    "sub_stops['direction'] = stop_dir"
   ]
  },
  {
   "cell_type": "code",
   "execution_count": null,
   "metadata": {},
   "outputs": [],
   "source": [
    "sub_stops.to_csv(\"subway_stops.csv\", index=False)"
   ]
  },
  {
   "cell_type": "code",
   "execution_count": null,
   "metadata": {},
   "outputs": [],
   "source": [
    "sub_routes = pd.read_csv(\"./secrets/subway/routes.txt\")"
   ]
  },
  {
   "cell_type": "code",
   "execution_count": null,
   "metadata": {},
   "outputs": [],
   "source": [
    "sub_routes = sub_routes[['route_id', 'route_long_name']]"
   ]
  },
  {
   "cell_type": "code",
   "execution_count": null,
   "metadata": {},
   "outputs": [],
   "source": [
    "sub_routes.to_csv(\"subway_routes.csv\", index=False)"
   ]
  },
  {
   "cell_type": "code",
   "execution_count": null,
   "metadata": {},
   "outputs": [],
   "source": [
    "def station_time_lookup(train_data, station):\n",
    "    for trains in train_data: # trains are dictionaries\n",
    "        if trains.get('trip_update', False) != False:\n",
    "            unique_train_schedule = trains['trip_update'] # train_schedule is a dictionary with trip and stop_time_update\n",
    "            unique_arrival_times = unique_train_schedule['stop_time_update'] # arrival_times is a list of arrivals\n",
    "            for scheduled_arrivals in unique_arrival_times: #arrivals are dictionaries with time data and stop_ids\n",
    "                if scheduled_arrivals.get('stop_id', False) == station:\n",
    "                    time_data = scheduled_arrivals['arrival']\n",
    "                    unique_time = time_data['time']\n",
    "                    if unique_time != None:\n",
    "                        collected_times.append(unique_time)\n",
    "\n",
    "# Run the above function for the station ID for Broadway-Lafayette\n",
    "station_time_lookup(realtime_data, 'D21S')"
   ]
  }
 ],
 "metadata": {
  "kernelspec": {
   "display_name": "Python 3 (ipykernel)",
   "language": "python",
   "name": "python3"
  },
  "language_info": {
   "codemirror_mode": {
    "name": "ipython",
    "version": 3
   },
   "file_extension": ".py",
   "mimetype": "text/x-python",
   "name": "python",
   "nbconvert_exporter": "python",
   "pygments_lexer": "ipython3",
   "version": "3.10.1"
  }
 },
 "nbformat": 4,
 "nbformat_minor": 4
}
