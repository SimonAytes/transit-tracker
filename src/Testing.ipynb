{
 "cells": [
  {
   "cell_type": "markdown",
   "metadata": {},
   "source": [
    "**USEFUL LINKS**\n",
    "\n",
    "DATA DICTIONARY : http://bt.mta.info/wiki/Developers/SIRIMonitoredVehicleJourney\n",
    "\n",
    "STATIC DATA RESOURCES : http://web.mta.info/developers/developer-data-terms.html#data\n",
    "\n",
    "DATA FEEDS INFO: https://api.mta.info/#/landing\n",
    "\n",
    "DEVELOPER RESOURCES: https://new.mta.info/developers"
   ]
  },
  {
   "cell_type": "markdown",
   "metadata": {},
   "source": [
    "----"
   ]
  },
  {
   "cell_type": "code",
   "execution_count": 30,
   "metadata": {},
   "outputs": [],
   "source": [
    "import pandas as pd\n",
    "\n",
    "import os\n",
    "import requests\n",
    "import json"
   ]
  },
  {
   "cell_type": "code",
   "execution_count": 228,
   "metadata": {},
   "outputs": [],
   "source": [
    "stops = pd.read_csv(\"./secrets/bus/stops.txt\")"
   ]
  },
  {
   "cell_type": "code",
   "execution_count": 233,
   "metadata": {},
   "outputs": [],
   "source": [
    "t_stops = stops[stops[\"stop_name\"].str.contains(\"W 125 ST/MAL\")]"
   ]
  },
  {
   "cell_type": "code",
   "execution_count": 234,
   "metadata": {},
   "outputs": [
    {
     "data": {
      "text/html": [
       "<div>\n",
       "<style scoped>\n",
       "    .dataframe tbody tr th:only-of-type {\n",
       "        vertical-align: middle;\n",
       "    }\n",
       "\n",
       "    .dataframe tbody tr th {\n",
       "        vertical-align: top;\n",
       "    }\n",
       "\n",
       "    .dataframe thead th {\n",
       "        text-align: right;\n",
       "    }\n",
       "</style>\n",
       "<table border=\"1\" class=\"dataframe\">\n",
       "  <thead>\n",
       "    <tr style=\"text-align: right;\">\n",
       "      <th></th>\n",
       "      <th>stop_id</th>\n",
       "      <th>stop_name</th>\n",
       "      <th>stop_desc</th>\n",
       "      <th>stop_lat</th>\n",
       "      <th>stop_lon</th>\n",
       "      <th>zone_id</th>\n",
       "      <th>stop_url</th>\n",
       "      <th>location_type</th>\n",
       "      <th>parent_station</th>\n",
       "    </tr>\n",
       "  </thead>\n",
       "  <tbody>\n",
       "    <tr>\n",
       "      <th>954</th>\n",
       "      <td>402507</td>\n",
       "      <td>W 125 ST/MALCOLM X BL</td>\n",
       "      <td>NaN</td>\n",
       "      <td>40.808026</td>\n",
       "      <td>-73.945964</td>\n",
       "      <td>NaN</td>\n",
       "      <td>NaN</td>\n",
       "      <td>0</td>\n",
       "      <td>NaN</td>\n",
       "    </tr>\n",
       "    <tr>\n",
       "      <th>980</th>\n",
       "      <td>402659</td>\n",
       "      <td>W 125 ST/MALCOLM X  BL</td>\n",
       "      <td>NaN</td>\n",
       "      <td>40.807514</td>\n",
       "      <td>-73.945026</td>\n",
       "      <td>NaN</td>\n",
       "      <td>NaN</td>\n",
       "      <td>0</td>\n",
       "      <td>NaN</td>\n",
       "    </tr>\n",
       "  </tbody>\n",
       "</table>\n",
       "</div>"
      ],
      "text/plain": [
       "     stop_id               stop_name  stop_desc   stop_lat   stop_lon  \\\n",
       "954   402507   W 125 ST/MALCOLM X BL        NaN  40.808026 -73.945964   \n",
       "980   402659  W 125 ST/MALCOLM X  BL        NaN  40.807514 -73.945026   \n",
       "\n",
       "     zone_id  stop_url  location_type  parent_station  \n",
       "954      NaN       NaN              0             NaN  \n",
       "980      NaN       NaN              0             NaN  "
      ]
     },
     "execution_count": 234,
     "metadata": {},
     "output_type": "execute_result"
    }
   ],
   "source": [
    "t_stops"
   ]
  },
  {
   "cell_type": "code",
   "execution_count": 253,
   "metadata": {},
   "outputs": [],
   "source": [
    "api_key = \"API KEY HERE\"\n",
    "stop_id = \"402507\"\n",
    "\n",
    "url = f\"http://bustime.mta.info/api/siri/stop-monitoring.json?key={api_key}&OperatorRef=MTA&MonitoringRef={stop_id}\"\n",
    "\n",
    "response = requests.request(\"GET\", url)\n",
    "\n",
    "# Create Python object from JSON string data\n",
    "obj = json.loads(response.text)\n",
    "  \n",
    "# Pretty Print JSON\n",
    "json_formatted_str = json.dumps(obj, indent=4)"
   ]
  },
  {
   "cell_type": "code",
   "execution_count": 254,
   "metadata": {},
   "outputs": [],
   "source": [
    "closest_busses = obj[\"Siri\"][\"ServiceDelivery\"][\"StopMonitoringDelivery\"][0]['MonitoredStopVisit'][0:3]"
   ]
  },
  {
   "cell_type": "code",
   "execution_count": 255,
   "metadata": {},
   "outputs": [],
   "source": [
    "bus = closest_busses[0]"
   ]
  },
  {
   "cell_type": "code",
   "execution_count": 256,
   "metadata": {},
   "outputs": [
    {
     "data": {
      "text/plain": [
       "'W. HARLEM BWAY - 125 via 3 AV'"
      ]
     },
     "execution_count": 256,
     "metadata": {},
     "output_type": "execute_result"
    }
   ],
   "source": [
    "# Destination\n",
    "bus['MonitoredVehicleJourney']['DestinationName']"
   ]
  }
 ],
 "metadata": {
  "kernelspec": {
   "display_name": "Python 3",
   "language": "python",
   "name": "python3"
  },
  "language_info": {
   "codemirror_mode": {
    "name": "ipython",
    "version": 3
   },
   "file_extension": ".py",
   "mimetype": "text/x-python",
   "name": "python",
   "nbconvert_exporter": "python",
   "pygments_lexer": "ipython3",
   "version": "3.8.5"
  }
 },
 "nbformat": 4,
 "nbformat_minor": 4
}
